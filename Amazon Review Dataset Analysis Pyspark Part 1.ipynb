{
 "cells": [
  {
   "cell_type": "markdown",
   "metadata": {},
   "source": [
    "### Creating spark session"
   ]
  },
  {
   "cell_type": "code",
   "execution_count": 1,
   "metadata": {},
   "outputs": [
    {
     "name": "stdout",
     "output_type": "stream",
     "text": [
      "Starting Spark application\n"
     ]
    },
    {
     "data": {
      "text/html": [
       "<table>\n",
       "<tr><th>ID</th><th>YARN Application ID</th><th>Kind</th><th>State</th><th>Spark UI</th><th>Driver log</th><th>Current session?</th></tr><tr><td>1</td><td>application_1588617440254_0009</td><td>pyspark3</td><td>idle</td><td><a target=\"_blank\" href=\"http://ip-172-31-86-80.ec2.internal:20888/proxy/application_1588617440254_0009/\">Link</a></td><td><a target=\"_blank\" href=\"http://ip-172-31-95-137.ec2.internal:8042/node/containerlogs/container_1588617440254_0009_01_000001/livy\">Link</a></td><td>✔</td></tr></table>"
      ],
      "text/plain": [
       "<IPython.core.display.HTML object>"
      ]
     },
     "metadata": {},
     "output_type": "display_data"
    },
    {
     "name": "stdout",
     "output_type": "stream",
     "text": [
      "SparkSession available as 'spark'.\n",
      "<pyspark.sql.session.SparkSession object at 0x7f24ad644b00>"
     ]
    }
   ],
   "source": [
    "spark"
   ]
  },
  {
   "cell_type": "markdown",
   "metadata": {},
   "source": [
    "### Importing library"
   ]
  },
  {
   "cell_type": "code",
   "execution_count": 2,
   "metadata": {},
   "outputs": [],
   "source": [
    "from pyspark.sql import functions as F"
   ]
  },
  {
   "cell_type": "code",
   "execution_count": 3,
   "metadata": {},
   "outputs": [],
   "source": [
    "# Load Data Set\n",
    "df = spark.read\\\n",
    "          .option(\"header\", \"true\")\\\n",
    "          .option(\"inferSchema\", \"true\")\\\n",
    "          .option(\"basePath\", \"hdfs:///hive/amazon-reviews-pds/parquet/\")\\\n",
    "          .parquet(\"hdfs:///hive/amazon-reviews-pds/parquet/*\")"
   ]
  },
  {
   "cell_type": "code",
   "execution_count": 4,
   "metadata": {},
   "outputs": [
    {
     "name": "stdout",
     "output_type": "stream",
     "text": [
      "root\n",
      " |-- marketplace: string (nullable = true)\n",
      " |-- customer_id: string (nullable = true)\n",
      " |-- review_id: string (nullable = true)\n",
      " |-- product_id: string (nullable = true)\n",
      " |-- product_parent: string (nullable = true)\n",
      " |-- product_title: string (nullable = true)\n",
      " |-- star_rating: integer (nullable = true)\n",
      " |-- helpful_votes: integer (nullable = true)\n",
      " |-- total_votes: integer (nullable = true)\n",
      " |-- vine: string (nullable = true)\n",
      " |-- verified_purchase: string (nullable = true)\n",
      " |-- review_headline: string (nullable = true)\n",
      " |-- review_body: string (nullable = true)\n",
      " |-- review_date: date (nullable = true)\n",
      " |-- year: integer (nullable = true)\n",
      " |-- product_category: string (nullable = true)"
     ]
    }
   ],
   "source": [
    "# Checking the schema of dataframe:\n",
    "df.printSchema()"
   ]
  },
  {
   "cell_type": "code",
   "execution_count": 4,
   "metadata": {},
   "outputs": [],
   "source": [
    "#Considering reviews after 2004 only:\n",
    "df1 = df.filter(F.col(\"year\")>2004)"
   ]
  },
  {
   "cell_type": "code",
   "execution_count": 6,
   "metadata": {},
   "outputs": [
    {
     "name": "stdout",
     "output_type": "stream",
     "text": [
      "71519024"
     ]
    }
   ],
   "source": [
    "df1.count()"
   ]
  },
  {
   "cell_type": "code",
   "execution_count": 6,
   "metadata": {},
   "outputs": [
    {
     "name": "stdout",
     "output_type": "stream",
     "text": [
      "+-----------+-----------+--------------+----------+--------------+-------------------+-----------+-------------+-----------+----+-----------------+---------------+--------------------+-----------+----+--------------------+\n",
      "|marketplace|customer_id|     review_id|product_id|product_parent|      product_title|star_rating|helpful_votes|total_votes|vine|verified_purchase|review_headline|         review_body|review_date|year|    product_category|\n",
      "+-----------+-----------+--------------+----------+--------------+-------------------+-----------+-------------+-----------+----+-----------------+---------------+--------------------+-----------+----+--------------------+\n",
      "|         FR|   26387317|R1UP1BZDZMYRQ7|B005R4HUZM|     648585293|Le Rouge et le Noir|          5|            0|          1|   N|                Y|        parfait|a relire pour se ...| 2014-04-09|2014|Digital_Ebook_Pur...|\n",
      "+-----------+-----------+--------------+----------+--------------+-------------------+-----------+-------------+-----------+----+-----------------+---------------+--------------------+-----------+----+--------------------+\n",
      "only showing top 1 row"
     ]
    }
   ],
   "source": [
    "df1.show(1)"
   ]
  },
  {
   "cell_type": "markdown",
   "metadata": {},
   "source": [
    "#### Excluding multiple reviews by the same users for the same product. In the case the same user has reviewed particular product more than once, excluding all reviews following the ﬁrst review. First review will remain as part of the analysis"
   ]
  },
  {
   "cell_type": "code",
   "execution_count": 5,
   "metadata": {},
   "outputs": [],
   "source": [
    "from pyspark.sql.window import Window\n",
    "import pyspark.sql.functions as F\n",
    " \n",
    "df12 = df1.select(\"*\",F.row_number().over(Window.partitionBy(\"product_category\",'customer_id', 'product_id').orderBy(df['review_date'])))"
   ]
  },
  {
   "cell_type": "code",
   "execution_count": 8,
   "metadata": {},
   "outputs": [
    {
     "name": "stdout",
     "output_type": "stream",
     "text": [
      "+-----------+-----------+--------------+----------+--------------+--------------------+-----------+-------------+-----------+----+-----------------+--------------------+--------------------+-----------+----+----------------+-----------------------------------------------------------------------------------------------------------------------------------+\n",
      "|marketplace|customer_id|     review_id|product_id|product_parent|       product_title|star_rating|helpful_votes|total_votes|vine|verified_purchase|     review_headline|         review_body|review_date|year|product_category|row_number() OVER (PARTITION BY product_category, customer_id, product_id ORDER BY review_date ASC NULLS FIRST unspecifiedframe$())|\n",
      "+-----------+-----------+--------------+----------+--------------+--------------------+-----------+-------------+-----------+----+-----------------+--------------------+--------------------+-----------+----+----------------+-----------------------------------------------------------------------------------------------------------------------------------+\n",
      "|         US|   10000770|R1MKP6SU9MAHWT|1589976533|     398545867|Wait No More: One...|          5|            0|          0|   N|                N|Heartwarming and ...|Kelly and John's ...| 2011-10-30|2011|           Books|                                                                                                                                  1|\n",
      "|         US|   10001024|R1YB0J8DC0TKS2|1494857138|     768654314|The 29 Day Moon C...|          5|            7|          8|   N|                Y|Essential to My P...|I did this challe...| 2014-05-02|2014|           Books|                                                                                                                                  1|\n",
      "|         US|   10001127|R2IEM1VVAHVQNG|0307393844|     918466265|Wonderful Tonight...|          5|            4|          4|   N|                N|   Wonderful indeed!|As a woman of the...| 2008-03-24|2008|           Books|                                                                                                                                  1|\n",
      "|         US|   10001269|R20L65O2S58MAO|1607011514|     811055310|Shoot the Preside...|          5|            1|          1|   N|                Y|Applause for retu...|Welcome back, Aug...| 2010-05-08|2010|           Books|                                                                                                                                  1|\n",
      "|         US|   10002257|R38P8K3BI379KU|0140165096|     781221011|They Called It Pa...|          5|            0|          0|   N|                Y|          Great book|I love history. I...| 2013-08-12|2013|           Books|                                                                                                                                  1|\n",
      "+-----------+-----------+--------------+----------+--------------+--------------------+-----------+-------------+-----------+----+-----------------+--------------------+--------------------+-----------+----+----------------+-----------------------------------------------------------------------------------------------------------------------------------+\n",
      "only showing top 5 rows"
     ]
    }
   ],
   "source": [
    "df12.show(5)"
   ]
  },
  {
   "cell_type": "code",
   "execution_count": 6,
   "metadata": {},
   "outputs": [],
   "source": [
    "df12=df12.withColumnRenamed(\"row_number() OVER (PARTITION BY product_category, customer_id, product_id ORDER BY review_date ASC NULLS FIRST unspecifiedframe$())\", \"row_num\")"
   ]
  },
  {
   "cell_type": "code",
   "execution_count": 7,
   "metadata": {},
   "outputs": [
    {
     "name": "stdout",
     "output_type": "stream",
     "text": [
      "5607955"
     ]
    }
   ],
   "source": [
    "# The count of rows which we will be removing \n",
    "df12.where(F.col(\"row_num\")>1).count()"
   ]
  },
  {
   "cell_type": "code",
   "execution_count": 7,
   "metadata": {},
   "outputs": [],
   "source": [
    "# Unique rows\n",
    "df2=df12.where(F.col(\"row_num\")==1)"
   ]
  },
  {
   "cell_type": "code",
   "execution_count": 10,
   "metadata": {},
   "outputs": [
    {
     "name": "stdout",
     "output_type": "stream",
     "text": [
      "+-----------+-----------+--------------+----------+--------------+--------------------+-----------+-------------+-----------+----+-----------------+--------------------+--------------------+-----------+----+----------------+-------+\n",
      "|marketplace|customer_id|     review_id|product_id|product_parent|       product_title|star_rating|helpful_votes|total_votes|vine|verified_purchase|     review_headline|         review_body|review_date|year|product_category|row_num|\n",
      "+-----------+-----------+--------------+----------+--------------+--------------------+-----------+-------------+-----------+----+-----------------+--------------------+--------------------+-----------+----+----------------+-------+\n",
      "|         US|   10000770|R1MKP6SU9MAHWT|1589976533|     398545867|Wait No More: One...|          5|            0|          0|   N|                N|Heartwarming and ...|Kelly and John's ...| 2011-10-30|2011|           Books|      1|\n",
      "+-----------+-----------+--------------+----------+--------------+--------------------+-----------+-------------+-----------+----+-----------------+--------------------+--------------------+-----------+----+----------------+-------+\n",
      "only showing top 1 row"
     ]
    }
   ],
   "source": [
    "df2.show(1)"
   ]
  },
  {
   "cell_type": "markdown",
   "metadata": {},
   "source": [
    "1. Explore the dataset and provide analysis by product-category and year: \n",
    "1. Number of reviews \n",
    "2. Number of users \n",
    "3. Average and Median review stars \n",
    "4. Percentiles of length of the review. Use the following percentiles: [0.1, 0.25, 0.5, 0.75, 0.9, 0.95] \n",
    "5. Percentiles for number of reviews per product. For example, 10% of books got 5 or less reviews. Use the following percentiles: [0.1, 0.25, 0.5, 0.75, 0.9, 0.95] 6. Identify week number (each year has 52 weeks) for each year and product category with most positive reviews (4 and 5 star)."
   ]
  },
  {
   "cell_type": "markdown",
   "metadata": {},
   "source": [
    "## Exploratory Data Analysis"
   ]
  },
  {
   "cell_type": "code",
   "execution_count": 9,
   "metadata": {},
   "outputs": [
    {
     "name": "stdout",
     "output_type": "stream",
     "text": [
      "65911069"
     ]
    }
   ],
   "source": [
    "#Number of reviews\n",
    "df2.count()"
   ]
  },
  {
   "cell_type": "code",
   "execution_count": 10,
   "metadata": {},
   "outputs": [
    {
     "name": "stdout",
     "output_type": "stream",
     "text": [
      "+----------------------+----+----------------+\n",
      "|product_category      |year|count(review_id)|\n",
      "+----------------------+----+----------------+\n",
      "|PC                    |2005|18166           |\n",
      "|Digital_Ebook_Purchase|2005|19              |\n",
      "|Books                 |2005|521047          |\n",
      "|Digital_Video_Download|2005|12              |\n",
      "|Video_DVD             |2005|189265          |\n",
      "|Wireless              |2005|11835           |\n",
      "|Video_DVD             |2006|197551          |\n",
      "|PC                    |2006|26291           |\n",
      "|Wireless              |2006|19857           |\n",
      "|Digital_Ebook_Purchase|2006|36              |\n",
      "|Books                 |2006|568401          |\n",
      "|Digital_Video_Download|2006|185             |\n",
      "|PC                    |2007|59890           |\n",
      "|Digital_Ebook_Purchase|2007|508             |\n",
      "|Digital_Video_Download|2007|2597            |\n",
      "|Books                 |2007|761037          |\n",
      "|Video_DVD             |2007|271324          |\n",
      "|Wireless              |2007|47738           |\n",
      "|Wireless              |2008|63672           |\n",
      "|Digital_Ebook_Purchase|2008|9607            |\n",
      "|Video_DVD             |2008|265477          |\n",
      "|PC                    |2008|81436           |\n",
      "|Digital_Video_Download|2008|3083            |\n",
      "|Books                 |2008|827721          |\n",
      "|Digital_Ebook_Purchase|2009|31106           |\n",
      "|Wireless              |2009|94052           |\n",
      "|PC                    |2009|130075          |\n",
      "|Digital_Video_Download|2009|3262            |\n",
      "|Video_DVD             |2009|297763          |\n",
      "|Books                 |2009|1015572         |\n",
      "|Digital_Video_Download|2010|6090            |\n",
      "|Books                 |2010|1120772         |\n",
      "|Wireless              |2010|162371          |\n",
      "|Digital_Ebook_Purchase|2010|102515          |\n",
      "|Mobile_Apps           |2010|8               |\n",
      "|Video_DVD             |2010|309009          |\n",
      "|PC                    |2010|213890          |\n",
      "|Wireless              |2011|321207          |\n",
      "|PC                    |2011|399330          |\n",
      "|Digital_Video_Download|2011|20895           |\n",
      "|Digital_Ebook_Purchase|2011|350138          |\n",
      "|Mobile_Apps           |2011|123315          |\n",
      "|Video_DVD             |2011|337253          |\n",
      "|Books                 |2011|1303082         |\n",
      "|Mobile_Apps           |2012|711489          |\n",
      "|Books                 |2012|1649719         |\n",
      "|Digital_Video_Download|2012|142471          |\n",
      "|Wireless              |2012|679881          |\n",
      "|PC                    |2012|666163          |\n",
      "|Digital_Ebook_Purchase|2012|1526599         |\n",
      "|Video_DVD             |2012|461969          |\n",
      "|Video_DVD             |2013|998689          |\n",
      "|Mobile_Apps           |2013|1336041         |\n",
      "|Wireless              |2013|1767171         |\n",
      "|PC                    |2013|1408142         |\n",
      "|Books                 |2013|2965970         |\n",
      "|Digital_Video_Download|2013|722509          |\n",
      "|Digital_Ebook_Purchase|2013|4569677         |\n",
      "|Books                 |2014|3540838         |\n",
      "|Digital_Video_Download|2014|1587553         |\n",
      "|Mobile_Apps           |2014|1728300         |\n",
      "|Wireless              |2014|2834284         |\n",
      "|Digital_Ebook_Purchase|2014|6723895         |\n",
      "|Video_DVD             |2014|1224393         |\n",
      "|PC                    |2014|2008563         |\n",
      "|Mobile_Apps           |2015|1431925         |\n",
      "|PC                    |2015|1885998         |\n",
      "|Digital_Ebook_Purchase|2015|4609358         |\n",
      "|Video_DVD             |2015|952989          |\n",
      "|Wireless              |2015|3000538         |\n",
      "|Digital_Video_Download|2015|1626822         |\n",
      "|Books                 |2015|2860663         |\n",
      "+----------------------+----+----------------+"
     ]
    }
   ],
   "source": [
    "#1.Number of reviews product_category and year wise\n",
    "df2.groupby(\"product_category\",\"year\")\\\n",
    "    .agg(F.count(\"review_id\"))\\\n",
    "    .sort(\"year\")\\\n",
    "    .show(80,truncate = False)"
   ]
  },
  {
   "cell_type": "code",
   "execution_count": 11,
   "metadata": {},
   "outputs": [
    {
     "name": "stdout",
     "output_type": "stream",
     "text": [
      "+----------------------+----+--------------+\n",
      "|product_category      |year|Count of Users|\n",
      "+----------------------+----+--------------+\n",
      "|Wireless              |2005|10585         |\n",
      "|PC                    |2005|15781         |\n",
      "|Digital_Ebook_Purchase|2005|17            |\n",
      "|Books                 |2005|290588        |\n",
      "|Digital_Video_Download|2005|6             |\n",
      "|Video_DVD             |2005|95199         |\n",
      "|PC                    |2006|23177         |\n",
      "|Wireless              |2006|17984         |\n",
      "|Video_DVD             |2006|105659        |\n",
      "|Digital_Ebook_Purchase|2006|33            |\n",
      "|Digital_Video_Download|2006|154           |\n",
      "|Books                 |2006|317358        |\n",
      "|Digital_Video_Download|2007|2027          |\n",
      "|Digital_Ebook_Purchase|2007|407           |\n",
      "|PC                    |2007|51028         |\n",
      "|Books                 |2007|420721        |\n",
      "|Video_DVD             |2007|147934        |\n",
      "|Wireless              |2007|42100         |\n",
      "|Books                 |2008|459247        |\n",
      "|Video_DVD             |2008|148566        |\n",
      "|Wireless              |2008|55688         |\n",
      "|PC                    |2008|69068         |\n",
      "|Digital_Ebook_Purchase|2008|5829          |\n",
      "|Digital_Video_Download|2008|2456          |\n",
      "|Digital_Video_Download|2009|2407          |\n",
      "|Books                 |2009|574958        |\n",
      "|Video_DVD             |2009|177997        |\n",
      "|Wireless              |2009|80038         |\n",
      "|PC                    |2009|107705        |\n",
      "|Digital_Ebook_Purchase|2009|19741         |\n",
      "|Digital_Video_Download|2010|4483          |\n",
      "|Video_DVD             |2010|188039        |\n",
      "|Books                 |2010|640507        |\n",
      "|PC                    |2010|176169        |\n",
      "|Mobile_Apps           |2010|4             |\n",
      "|Wireless              |2010|135112        |\n",
      "|Digital_Ebook_Purchase|2010|61197         |\n",
      "|Digital_Video_Download|2011|14722         |\n",
      "|Wireless              |2011|256928        |\n",
      "|PC                    |2011|321662        |\n",
      "|Books                 |2011|752546        |\n",
      "|Mobile_Apps           |2011|77231         |\n",
      "|Digital_Ebook_Purchase|2011|183970        |\n",
      "|Video_DVD             |2011|206376        |\n",
      "|PC                    |2012|506674        |\n",
      "|Digital_Video_Download|2012|102604        |\n",
      "|Mobile_Apps           |2012|419053        |\n",
      "|Books                 |2012|951710        |\n",
      "|Wireless              |2012|506941        |\n",
      "|Digital_Ebook_Purchase|2012|786067        |\n",
      "|Video_DVD             |2012|273944        |\n",
      "|Books                 |2013|1620951       |\n",
      "|Mobile_Apps           |2013|743314        |\n",
      "|Video_DVD             |2013|543707        |\n",
      "|Digital_Ebook_Purchase|2013|1879963       |\n",
      "|Wireless              |2013|1193473       |\n",
      "|PC                    |2013|982537        |\n",
      "|Digital_Video_Download|2013|445955        |\n",
      "|Video_DVD             |2014|599876        |\n",
      "|Digital_Ebook_Purchase|2014|2611998       |\n",
      "|Digital_Video_Download|2014|931089        |\n",
      "|Mobile_Apps           |2014|988668        |\n",
      "|Books                 |2014|1859221       |\n",
      "|Wireless              |2014|1865523       |\n",
      "|PC                    |2014|1344041       |\n",
      "|PC                    |2015|1291704       |\n",
      "|Video_DVD             |2015|461600        |\n",
      "|Mobile_Apps           |2015|858948        |\n",
      "|Wireless              |2015|1982195       |\n",
      "|Digital_Video_Download|2015|989863        |\n",
      "|Digital_Ebook_Purchase|2015|1918246       |\n",
      "|Books                 |2015|1548543       |\n",
      "+----------------------+----+--------------+"
     ]
    }
   ],
   "source": [
    "#2.Number of users product_category and year wise\n",
    "df2.groupby(\"product_category\",\"year\")\\\n",
    "    .agg(F.countDistinct(\"customer_id\").alias(\"Count of Users\"))\\\n",
    "    .sort(\"year\")\\\n",
    "    .show(80,truncate = False)"
   ]
  },
  {
   "cell_type": "code",
   "execution_count": 16,
   "metadata": {
    "scrolled": true
   },
   "outputs": [
    {
     "name": "stdout",
     "output_type": "stream",
     "text": [
      "+----------------------+----+----------+----------+\n",
      "|product_category      |year|avg_rating|med_rating|\n",
      "+----------------------+----+----------+----------+\n",
      "|PC                    |2005|3.62      |4         |\n",
      "|Books                 |2005|4.15      |5         |\n",
      "|Digital_Video_Download|2005|3.75      |4         |\n",
      "|Digital_Ebook_Purchase|2005|3.58      |4         |\n",
      "|Wireless              |2005|3.41      |4         |\n",
      "|Video_DVD             |2005|4.0       |5         |\n",
      "|PC                    |2006|3.72      |4         |\n",
      "|Digital_Ebook_Purchase|2006|4.03      |5         |\n",
      "|Video_DVD             |2006|4.08      |5         |\n",
      "|Wireless              |2006|3.51      |4         |\n",
      "|Digital_Video_Download|2006|3.63      |4         |\n",
      "|Books                 |2006|4.2       |5         |\n",
      "|Wireless              |2007|3.76      |4         |\n",
      "|Video_DVD             |2007|4.16      |5         |\n",
      "|PC                    |2007|3.94      |5         |\n",
      "|Books                 |2007|4.26      |5         |\n",
      "|Digital_Ebook_Purchase|2007|3.94      |5         |\n",
      "|Digital_Video_Download|2007|3.6       |4         |\n",
      "|Books                 |2008|4.23      |5         |\n",
      "|Digital_Ebook_Purchase|2008|3.95      |5         |\n",
      "|Video_DVD             |2008|4.1       |5         |\n",
      "|PC                    |2008|3.98      |5         |\n",
      "|Digital_Video_Download|2008|3.75      |4         |\n",
      "|Wireless              |2008|3.77      |4         |\n",
      "|Wireless              |2009|3.72      |4         |\n",
      "|Digital_Video_Download|2009|3.7       |4         |\n",
      "|Books                 |2009|4.25      |5         |\n",
      "|Video_DVD             |2009|4.11      |5         |\n",
      "|Digital_Ebook_Purchase|2009|3.78      |4         |\n",
      "|PC                    |2009|3.97      |5         |\n",
      "|Video_DVD             |2010|4.09      |5         |\n",
      "|Wireless              |2010|3.66      |4         |\n",
      "|Books                 |2010|4.25      |5         |\n",
      "|PC                    |2010|3.97      |5         |\n",
      "|Digital_Video_Download|2010|3.76      |4         |\n",
      "|Digital_Ebook_Purchase|2010|3.82      |4         |\n",
      "|Mobile_Apps           |2010|2.0       |1         |\n",
      "|Digital_Ebook_Purchase|2011|4.06      |5         |\n",
      "|Wireless              |2011|3.67      |4         |\n",
      "|PC                    |2011|4.01      |5         |\n",
      "|Mobile_Apps           |2011|3.59      |4         |\n",
      "|Video_DVD             |2011|4.11      |5         |\n",
      "|Books                 |2011|4.25      |5         |\n",
      "|Digital_Video_Download|2011|3.78      |5         |\n",
      "|Digital_Video_Download|2012|4.03      |5         |\n",
      "|Books                 |2012|4.31      |5         |\n",
      "|PC                    |2012|4.02      |5         |\n",
      "|Wireless              |2012|3.76      |4         |\n",
      "|Mobile_Apps           |2012|4.0       |5         |\n",
      "|Digital_Ebook_Purchase|2012|4.21      |5         |\n",
      "|Video_DVD             |2012|4.22      |5         |\n",
      "|Wireless              |2013|3.82      |4         |\n",
      "|Digital_Video_Download|2013|4.21      |5         |\n",
      "|Books                 |2013|4.41      |5         |\n",
      "|Video_DVD             |2013|4.41      |5         |\n",
      "|Mobile_Apps           |2013|3.99      |5         |\n",
      "|Digital_Ebook_Purchase|2013|4.3       |5         |\n",
      "|PC                    |2013|4.08      |5         |\n",
      "|PC                    |2014|4.12      |5         |\n",
      "|Mobile_Apps           |2014|3.97      |5         |\n",
      "|Digital_Ebook_Purchase|2014|4.33      |5         |\n",
      "|Digital_Video_Download|2014|4.22      |5         |\n",
      "|Books                 |2014|4.47      |5         |\n",
      "|Wireless              |2014|3.92      |5         |\n",
      "|Video_DVD             |2014|4.49      |5         |\n",
      "|Mobile_Apps           |2015|4.03      |5         |\n",
      "|Video_DVD             |2015|4.53      |5         |\n",
      "|Digital_Ebook_Purchase|2015|4.35      |5         |\n",
      "|Books                 |2015|4.5       |5         |\n",
      "|PC                    |2015|4.16      |5         |\n",
      "|Wireless              |2015|3.99      |5         |\n",
      "|Digital_Video_Download|2015|4.2       |5         |\n",
      "+----------------------+----+----------+----------+"
     ]
    }
   ],
   "source": [
    "#3.Average and Median review stars product_category wise\n",
    "df2.groupBy('product_category',\"year\")\\\n",
    "    .agg(F.round(F.avg(\"star_rating\"),2).alias(\"avg_rating\"),F.expr('percentile_approx(star_rating, 0.5)').alias('med_rating'))\\\n",
    "    .sort(\"year\")\\\n",
    "    .show(80,truncate = False)"
   ]
  },
  {
   "cell_type": "markdown",
   "metadata": {},
   "source": [
    "#### 4. Percentiles of length of the review. Use the following percentiles: [0.1, 0.25, 0.5, 0.75, 0.9, 0.95] \n"
   ]
  },
  {
   "cell_type": "code",
   "execution_count": 9,
   "metadata": {},
   "outputs": [
    {
     "name": "stdout",
     "output_type": "stream",
     "text": [
      "[64.0, 130.0, 220.0, 812.0, 41200.0, 51019.0]"
     ]
    }
   ],
   "source": [
    "from pyspark.sql.functions import length\n",
    "df3=df2.select(\"*\",length(\"review_body\"))\n",
    "df4=df3.withColumnRenamed(\"length(review_body)\", \"review_len\")"
   ]
  },
  {
   "cell_type": "code",
   "execution_count": 10,
   "metadata": {
    "scrolled": true
   },
   "outputs": [
    {
     "name": "stdout",
     "output_type": "stream",
     "text": [
      "+----------------------+----+---+---+----+----+----+----+\n",
      "|product_category      |year|%1 |%25|%50 |%75 |%90 |%95 |\n",
      "+----------------------+----+---+---+----+----+----+----+\n",
      "|Books                 |2005|208|367|674 |1286|1286|1286|\n",
      "|Books                 |2006|189|339|628 |1222|1222|1222|\n",
      "|Books                 |2007|144|258|499 |1005|1005|1005|\n",
      "|Books                 |2008|150|267|521 |1054|1054|1054|\n",
      "|Books                 |2009|138|249|505 |1058|1058|1058|\n",
      "|Books                 |2010|140|251|519 |1115|1115|1115|\n",
      "|Books                 |2011|157|259|523 |1133|1133|1133|\n",
      "|Books                 |2012|137|208|433 |985 |985 |985 |\n",
      "|Books                 |2013|117|145|244 |558 |558 |558 |\n",
      "|Books                 |2014|21 |71 |161 |386 |386 |386 |\n",
      "|Books                 |2015|12 |35 |100 |307 |307 |307 |\n",
      "|Digital_Ebook_Purchase|2005|139|305|2468|3489|3489|3489|\n",
      "|Digital_Ebook_Purchase|2006|179|249|900 |2330|2330|2330|\n",
      "|Digital_Ebook_Purchase|2007|127|244|502 |1181|1181|1181|\n",
      "|Digital_Ebook_Purchase|2008|119|225|458 |996 |996 |996 |\n",
      "|Digital_Ebook_Purchase|2009|136|228|423 |826 |826 |826 |\n",
      "|Digital_Ebook_Purchase|2010|144|240|450 |884 |884 |884 |\n",
      "|Digital_Ebook_Purchase|2011|165|260|469 |893 |893 |893 |\n",
      "|Digital_Ebook_Purchase|2012|123|163|293 |596 |596 |596 |\n",
      "|Digital_Ebook_Purchase|2013|113|133|198 |389 |389 |389 |\n",
      "|Digital_Ebook_Purchase|2014|47 |113|174 |360 |360 |360 |\n",
      "|Digital_Ebook_Purchase|2015|23 |73 |154 |340 |340 |340 |\n",
      "|Digital_Video_Download|2005|591|656|1134|1483|1483|1483|\n",
      "|Digital_Video_Download|2006|107|171|313 |602 |602 |602 |\n",
      "|Digital_Video_Download|2007|125|197|356 |644 |644 |644 |\n",
      "|Digital_Video_Download|2008|121|194|346 |651 |651 |651 |\n",
      "|Digital_Video_Download|2009|126|210|384 |703 |703 |703 |\n",
      "|Digital_Video_Download|2010|128|209|378 |708 |708 |708 |\n",
      "|Digital_Video_Download|2011|139|201|360 |695 |695 |695 |\n",
      "|Digital_Video_Download|2012|115|137|201 |386 |386 |386 |\n",
      "|Digital_Video_Download|2013|110|124|159 |257 |257 |257 |\n",
      "|Digital_Video_Download|2014|15 |45 |118 |192 |192 |192 |\n",
      "|Digital_Video_Download|2015|10 |19 |50  |119 |119 |119 |\n",
      "|Mobile_Apps           |2010|71 |72 |103 |148 |148 |148 |\n",
      "|Mobile_Apps           |2011|112|130|169 |266 |266 |266 |\n",
      "|Mobile_Apps           |2012|102|114|138 |192 |192 |192 |\n",
      "|Mobile_Apps           |2013|102|114|136 |189 |189 |189 |\n",
      "|Mobile_Apps           |2014|20 |70 |119 |170 |170 |170 |\n",
      "|Mobile_Apps           |2015|11 |24 |59  |125 |125 |125 |\n",
      "|PC                    |2005|165|298|543 |979 |979 |979 |\n",
      "|PC                    |2006|129|236|450 |825 |825 |825 |\n",
      "|PC                    |2007|111|186|355 |671 |671 |671 |\n",
      "|PC                    |2008|125|204|391 |730 |730 |730 |\n",
      "|PC                    |2009|126|210|402 |774 |774 |774 |\n",
      "|PC                    |2010|124|200|381 |736 |736 |736 |\n",
      "|PC                    |2011|137|199|358 |681 |681 |681 |\n",
      "|PC                    |2012|123|162|285 |562 |562 |562 |\n",
      "|PC                    |2013|111|132|199 |382 |382 |382 |\n",
      "|PC                    |2014|20 |63 |140 |290 |290 |290 |\n",
      "|PC                    |2015|12 |32 |82  |209 |209 |209 |\n",
      "|Video_DVD             |2005|198|365|710 |1404|1404|1404|\n",
      "|Video_DVD             |2006|170|321|639 |1320|1320|1320|\n",
      "|Video_DVD             |2007|125|227|472 |1009|1009|1009|\n",
      "|Video_DVD             |2008|129|226|464 |999 |999 |999 |\n",
      "|Video_DVD             |2009|119|203|420 |929 |929 |929 |\n",
      "|Video_DVD             |2010|120|199|414 |923 |923 |923 |\n",
      "|Video_DVD             |2011|136|202|401 |881 |881 |881 |\n",
      "|Video_DVD             |2012|121|158|294 |693 |693 |693 |\n",
      "|Video_DVD             |2013|109|128|180 |353 |353 |353 |\n",
      "|Video_DVD             |2014|12 |41 |123 |239 |239 |239 |\n",
      "|Video_DVD             |2015|9  |19 |53  |149 |149 |149 |\n",
      "|Wireless              |2005|177|324|583 |1076|1076|1076|\n",
      "|Wireless              |2006|156|280|521 |952 |952 |952 |\n",
      "|Wireless              |2007|115|191|357 |672 |672 |672 |\n",
      "|Wireless              |2008|119|191|352 |662 |662 |662 |\n",
      "|Wireless              |2009|114|181|334 |639 |639 |639 |\n",
      "|Wireless              |2010|114|175|317 |600 |600 |600 |\n",
      "|Wireless              |2011|128|173|291 |532 |532 |532 |\n",
      "|Wireless              |2012|116|145|229 |429 |429 |429 |\n",
      "|Wireless              |2013|108|125|174 |307 |307 |307 |\n",
      "|Wireless              |2014|17 |52 |125 |239 |239 |239 |\n",
      "|Wireless              |2015|11 |31 |79  |193 |193 |193 |\n",
      "+----------------------+----+---+---+----+----+----+----+"
     ]
    }
   ],
   "source": [
    "df4.groupby(\"product_category\",\"year\").agg(F.round(F.expr('percentile_approx(Review_Len, 0.1)')).alias('%1'),\\\n",
    "                                           F.round(F.expr('percentile_approx(Review_Len, 0.25)')).alias('%25'),\\\n",
    "                                           F.round(F.expr('percentile_approx(Review_Len, 0.50)')).alias('%50'),\\\n",
    "                                           F.round(F.expr('percentile_approx(Review_Len, 0.75)')).alias('%75'),\\\n",
    "                                           F.round(F.expr('percentile_approx(Review_Len, 0.75)')).alias('%90'),\\\n",
    "                                           F.round(F.expr('percentile_approx(Review_Len, 0.75)')).alias('%95'))\\\n",
    ".sort(\"product_category\",\"year\").show(80,truncate=False)"
   ]
  },
  {
   "cell_type": "markdown",
   "metadata": {},
   "source": [
    "#### Q5 Percentiles for number of reviews per product. For example, 10% of books got 5 or less reviews. Use the following percentiles: [0.1, 0.25, 0.5, 0.75, 0.9, 0.95]"
   ]
  },
  {
   "cell_type": "code",
   "execution_count": 11,
   "metadata": {},
   "outputs": [
    {
     "name": "stdout",
     "output_type": "stream",
     "text": [
      "+----------------------+-------------------------------+\n",
      "|product_category      |quantile                       |\n",
      "+----------------------+-------------------------------+\n",
      "|PC                    |[28, 95, 171, 372, 764, 1172]  |\n",
      "|Wireless              |[21, 70, 141, 281, 558, 851]   |\n",
      "|Digital_Video_Download|[13, 38, 113, 190, 374, 586]   |\n",
      "|Digital_Ebook_Purchase|[59, 119, 188, 397, 868, 1410] |\n",
      "|Books                 |[52, 133, 297, 728, 1584, 2492]|\n",
      "|Mobile_Apps           |[23, 82, 121, 171, 278, 392]   |\n",
      "|Video_DVD             |[28, 107, 202, 531, 1290, 2112]|\n",
      "+----------------------+-------------------------------+"
     ]
    }
   ],
   "source": [
    "df4.groupBy('product_category')\\\n",
    "    .agg(F.expr('percentile_approx(Review_Len, array(0.1, 0.25, 0.5, 0.75, 0.9, 0.95))').alias('quantile'))\\\n",
    "    .show(80,truncate = False)"
   ]
  },
  {
   "cell_type": "code",
   "execution_count": 9,
   "metadata": {},
   "outputs": [
    {
     "name": "stdout",
     "output_type": "stream",
     "text": [
      "+----------------------+----+---+---+---+---+---+---+\n",
      "|product_category      |year|%1 |%25|%50|%75|%90|%95|\n",
      "+----------------------+----+---+---+---+---+---+---+\n",
      "|Books                 |2005|1  |1  |1  |2  |2  |2  |\n",
      "|Books                 |2006|1  |1  |1  |2  |2  |2  |\n",
      "|Books                 |2007|1  |1  |1  |2  |2  |2  |\n",
      "|Books                 |2008|1  |1  |1  |2  |2  |2  |\n",
      "|Books                 |2009|1  |1  |1  |2  |2  |2  |\n",
      "|Books                 |2010|1  |1  |1  |2  |2  |2  |\n",
      "|Books                 |2011|1  |1  |1  |2  |2  |2  |\n",
      "|Books                 |2012|1  |1  |1  |2  |2  |2  |\n",
      "|Books                 |2013|1  |1  |1  |3  |3  |3  |\n",
      "|Books                 |2014|1  |1  |1  |3  |3  |3  |\n",
      "|Books                 |2015|1  |1  |1  |2  |2  |2  |\n",
      "|Digital_Ebook_Purchase|2005|1  |1  |1  |1  |1  |1  |\n",
      "|Digital_Ebook_Purchase|2006|1  |1  |1  |1  |1  |1  |\n",
      "|Digital_Ebook_Purchase|2007|1  |1  |1  |1  |1  |1  |\n",
      "|Digital_Ebook_Purchase|2008|1  |1  |1  |1  |1  |1  |\n",
      "|Digital_Ebook_Purchase|2009|1  |1  |1  |2  |2  |2  |\n",
      "|Digital_Ebook_Purchase|2010|1  |1  |1  |2  |2  |2  |\n",
      "|Digital_Ebook_Purchase|2011|1  |1  |1  |3  |3  |3  |\n",
      "|Digital_Ebook_Purchase|2012|1  |1  |2  |4  |4  |4  |\n",
      "|Digital_Ebook_Purchase|2013|1  |1  |2  |5  |5  |5  |\n",
      "|Digital_Ebook_Purchase|2014|1  |1  |2  |5  |5  |5  |\n",
      "|Digital_Ebook_Purchase|2015|1  |1  |2  |4  |4  |4  |\n",
      "|Digital_Video_Download|2005|1  |1  |1  |1  |1  |1  |\n",
      "|Digital_Video_Download|2006|1  |1  |1  |1  |1  |1  |\n",
      "|Digital_Video_Download|2007|1  |1  |1  |2  |2  |2  |\n",
      "|Digital_Video_Download|2008|1  |1  |1  |2  |2  |2  |\n",
      "|Digital_Video_Download|2009|1  |1  |1  |2  |2  |2  |\n",
      "|Digital_Video_Download|2010|1  |1  |1  |2  |2  |2  |\n",
      "|Digital_Video_Download|2011|1  |1  |1  |2  |2  |2  |\n",
      "|Digital_Video_Download|2012|1  |1  |2  |3  |3  |3  |\n",
      "|Digital_Video_Download|2013|1  |1  |2  |7  |7  |7  |\n",
      "|Digital_Video_Download|2014|1  |1  |3  |10 |10 |10 |\n",
      "|Digital_Video_Download|2015|1  |1  |3  |8  |8  |8  |\n",
      "|Mobile_Apps           |2010|1  |1  |2  |2  |2  |2  |\n",
      "|Mobile_Apps           |2011|1  |1  |2  |4  |4  |4  |\n",
      "|Mobile_Apps           |2012|1  |1  |2  |7  |7  |7  |\n",
      "|Mobile_Apps           |2013|1  |1  |2  |7  |7  |7  |\n",
      "|Mobile_Apps           |2014|1  |1  |2  |6  |6  |6  |\n",
      "|Mobile_Apps           |2015|1  |1  |2  |5  |5  |5  |\n",
      "|PC                    |2005|1  |1  |2  |4  |4  |4  |\n",
      "|PC                    |2006|1  |1  |1  |3  |3  |3  |\n",
      "|PC                    |2007|1  |1  |1  |4  |4  |4  |\n",
      "|PC                    |2008|1  |1  |1  |4  |4  |4  |\n",
      "|PC                    |2009|1  |1  |1  |4  |4  |4  |\n",
      "|PC                    |2010|1  |1  |1  |4  |4  |4  |\n",
      "|PC                    |2011|1  |1  |1  |4  |4  |4  |\n",
      "|PC                    |2012|1  |1  |1  |4  |4  |4  |\n",
      "|PC                    |2013|1  |1  |2  |4  |4  |4  |\n",
      "|PC                    |2014|1  |1  |2  |4  |4  |4  |\n",
      "|PC                    |2015|1  |1  |1  |4  |4  |4  |\n",
      "|Video_DVD             |2005|1  |1  |2  |5  |5  |5  |\n",
      "|Video_DVD             |2006|1  |1  |2  |4  |4  |4  |\n",
      "|Video_DVD             |2007|1  |1  |2  |4  |4  |4  |\n",
      "|Video_DVD             |2008|1  |1  |2  |4  |4  |4  |\n",
      "|Video_DVD             |2009|1  |1  |2  |4  |4  |4  |\n",
      "|Video_DVD             |2010|1  |1  |2  |4  |4  |4  |\n",
      "|Video_DVD             |2011|1  |1  |2  |4  |4  |4  |\n",
      "|Video_DVD             |2012|1  |1  |2  |4  |4  |4  |\n",
      "|Video_DVD             |2013|1  |1  |2  |6  |6  |6  |\n",
      "|Video_DVD             |2014|1  |1  |2  |6  |6  |6  |\n",
      "|Video_DVD             |2015|1  |1  |2  |5  |5  |5  |\n",
      "|Wireless              |2005|1  |1  |2  |4  |4  |4  |\n",
      "|Wireless              |2006|1  |1  |1  |4  |4  |4  |\n",
      "|Wireless              |2007|1  |1  |1  |3  |3  |3  |\n",
      "|Wireless              |2008|1  |1  |1  |3  |3  |3  |\n",
      "|Wireless              |2009|1  |1  |1  |3  |3  |3  |\n",
      "|Wireless              |2010|1  |1  |1  |3  |3  |3  |\n",
      "|Wireless              |2011|1  |1  |1  |3  |3  |3  |\n",
      "|Wireless              |2012|1  |1  |1  |3  |3  |3  |\n",
      "|Wireless              |2013|1  |1  |1  |3  |3  |3  |\n",
      "|Wireless              |2014|1  |1  |1  |4  |4  |4  |\n",
      "|Wireless              |2015|1  |1  |1  |4  |4  |4  |\n",
      "+----------------------+----+---+---+---+---+---+---+"
     ]
    }
   ],
   "source": [
    "import pyspark.sql.functions as F\n",
    "df_Q5 = df2.groupBy(\"product_category\",\"year\",\"product_title\").agg(F.count(\"review_id\").alias('review_count'))\n",
    "df_Q5.groupby(\"product_category\",\"year\").agg(F.round(F.expr('percentile_approx(review_count, 0.1)')).alias('%1'),\\\n",
    "                                           F.round(F.expr('percentile_approx(review_count, 0.25)')).alias('%25'),\\\n",
    "                                           F.round(F.expr('percentile_approx(review_count, 0.50)')).alias('%50'),\\\n",
    "                                           F.round(F.expr('percentile_approx(review_count, 0.75)')).alias('%75'),\\\n",
    "                                           F.round(F.expr('percentile_approx(review_count, 0.75)')).alias('%90'),\\\n",
    "                                           F.round(F.expr('percentile_approx(review_count, 0.75)')).alias('%95'))\\\n",
    ".sort(\"product_category\",\"year\").show(80,truncate=False)"
   ]
  },
  {
   "cell_type": "markdown",
   "metadata": {},
   "source": [
    "##### 6.Identify week number (each year has 52 weeks) for each year and product category with most positive reviews (4 and 5 star). "
   ]
  },
  {
   "cell_type": "code",
   "execution_count": 8,
   "metadata": {},
   "outputs": [],
   "source": [
    "#df4 is a dataframe with coloumns \"product_category\",\"year\",\"review_date\",'star_rating' and 'week'\n",
    "df4= df2.select(\"product_category\",\"year\",\"review_date\",'star_rating').withColumn('week',F.weekofyear(df2.review_date))\\\n",
    "        .where(F.column(\"star_rating\").isin([4,5]))"
   ]
  },
  {
   "cell_type": "code",
   "execution_count": null,
   "metadata": {},
   "outputs": [],
   "source": [
    "df4.count()"
   ]
  },
  {
   "cell_type": "code",
   "execution_count": 10,
   "metadata": {},
   "outputs": [
    {
     "name": "stdout",
     "output_type": "stream",
     "text": [
      "+----------------+----+-----------+-----------+----+\n",
      "|product_category|year|review_date|star_rating|week|\n",
      "+----------------+----+-----------+-----------+----+\n",
      "|Books           |2011|2011-10-30 |5          |43  |\n",
      "|Books           |2014|2014-05-02 |5          |18  |\n",
      "|Books           |2008|2008-03-24 |5          |13  |\n",
      "|Books           |2010|2010-05-08 |5          |18  |\n",
      "|Books           |2013|2013-08-12 |5          |33  |\n",
      "+----------------+----+-----------+-----------+----+\n",
      "only showing top 5 rows"
     ]
    }
   ],
   "source": [
    "df4.show(5,truncate=False)"
   ]
  },
  {
   "cell_type": "code",
   "execution_count": 9,
   "metadata": {},
   "outputs": [],
   "source": [
    "df6 = df4.groupby(\"product_category\",\"year\",\"week\")\\\n",
    "   .agg(F.count(\"star_rating\").alias(\"rating_count\"))\\\n",
    "   .sort(\"product_category\",\"year\")"
   ]
  },
  {
   "cell_type": "code",
   "execution_count": 16,
   "metadata": {},
   "outputs": [
    {
     "name": "stdout",
     "output_type": "stream",
     "text": [
      "+----------------+----+----+------------+\n",
      "|product_category|year|week|rating_count|\n",
      "+----------------+----+----+------------+\n",
      "|Books           |2005|17  |6663        |\n",
      "|Books           |2005|5   |6632        |\n",
      "|Books           |2005|21  |6249        |\n",
      "|Books           |2005|34  |9774        |\n",
      "|Books           |2005|12  |6298        |\n",
      "+----------------+----+----+------------+\n",
      "only showing top 5 rows"
     ]
    }
   ],
   "source": [
    "df6.show(5,truncate=False)"
   ]
  },
  {
   "cell_type": "code",
   "execution_count": 17,
   "metadata": {},
   "outputs": [],
   "source": [
    "from pyspark.sql.window import Window\n",
    "import pyspark.sql.functions as F\n",
    "from pyspark.sql.functions import rank\n",
    " \n",
    "df7 = df6.select(\"*\",rank().over(Window.partitionBy(\"product_category\",'year').orderBy(F.col('rating_count').desc())))"
   ]
  },
  {
   "cell_type": "code",
   "execution_count": 19,
   "metadata": {},
   "outputs": [
    {
     "name": "stdout",
     "output_type": "stream",
     "text": [
      "+----------------------+----+----+------------+----+\n",
      "|product_category      |year|week|rating_count|rank|\n",
      "+----------------------+----+----+------------+----+\n",
      "|Books                 |2005|31  |11399       |1   |\n",
      "|Books                 |2006|45  |15769       |1   |\n",
      "|Books                 |2007|2   |29867       |1   |\n",
      "|Books                 |2008|1   |16441       |1   |\n",
      "|Books                 |2009|37  |21677       |1   |\n",
      "|Books                 |2010|5   |24043       |1   |\n",
      "|Books                 |2011|52  |28267       |1   |\n",
      "|Books                 |2012|52  |62085       |1   |\n",
      "|Books                 |2013|1   |73910       |1   |\n",
      "|Books                 |2014|1   |86638       |1   |\n",
      "|Books                 |2015|2   |95507       |1   |\n",
      "|Digital_Ebook_Purchase|2005|43  |3           |1   |\n",
      "|Digital_Ebook_Purchase|2006|31  |3           |1   |\n",
      "|Digital_Ebook_Purchase|2006|8   |3           |1   |\n",
      "|Digital_Ebook_Purchase|2006|34  |3           |1   |\n",
      "|Digital_Ebook_Purchase|2007|48  |78          |1   |\n",
      "|Digital_Ebook_Purchase|2008|14  |250         |1   |\n",
      "|Digital_Ebook_Purchase|2009|52  |712         |1   |\n",
      "|Digital_Ebook_Purchase|2010|52  |2873        |1   |\n",
      "|Digital_Ebook_Purchase|2011|52  |9745        |1   |\n",
      "+----------------------+----+----+------------+----+\n",
      "only showing top 20 rows"
     ]
    }
   ],
   "source": [
    "df8=df7.withColumnRenamed(\"RANK() OVER (PARTITION BY product_category, year ORDER BY rating_count DESC NULLS LAST unspecifiedframe$())\",'rank')\n",
    "df8.where(F.col(\"rank\")==1).show(20,truncate = False)"
   ]
  },
  {
   "cell_type": "markdown",
   "metadata": {},
   "source": [
    "##### 2. Provide detailed analysis of \"Digital eBook Purchase\" versus Books. \n",
    " 1. Using Spark Pivot functionality, produce DataFrame with following columns: \n",
    "    1. Year \n",
    "    2. Month \n",
    "    3. Total number of reviews for \"Digital eBook Purchase\" category \n",
    "    4. Total number of reviews for \"Books\" category \n",
    "    5. Average stars for reviews for \"Digital eBook Purchase\" category \n",
    "    6. Average stars for reviews for \"Books\" category "
   ]
  },
  {
   "cell_type": "code",
   "execution_count": 22,
   "metadata": {},
   "outputs": [
    {
     "name": "stdout",
     "output_type": "stream",
     "text": [
      "+----------------+--------------+-----------+----+-----+\n",
      "|product_category|review_id     |star_rating|year|month|\n",
      "+----------------+--------------+-----------+----+-----+\n",
      "|Books           |R1MKP6SU9MAHWT|5          |2011|10   |\n",
      "|Books           |R1YB0J8DC0TKS2|5          |2014|5    |\n",
      "|Books           |R2IEM1VVAHVQNG|5          |2008|3    |\n",
      "|Books           |R20L65O2S58MAO|5          |2010|5    |\n",
      "|Books           |R38P8K3BI379KU|5          |2013|8    |\n",
      "|Books           |RS7TO93OWV5VA |5          |2013|12   |\n",
      "|Books           |RJE8D9YSE0TEX |5          |2008|6    |\n",
      "|Books           |R17HQIAO8MSGNZ|5          |2012|11   |\n",
      "|Books           |R2M6061U2N92VD|5          |2014|5    |\n",
      "|Books           |R3RWT30V27AWRZ|2          |2013|7    |\n",
      "+----------------+--------------+-----------+----+-----+\n",
      "only showing top 10 rows"
     ]
    }
   ],
   "source": [
    "df10 = df2.withColumn('month',F.month(df2.review_date))\\\n",
    "          .select(\"product_category\",\"review_id\",\"star_rating\",\"year\",\"month\")\n",
    "df10.show(10, False)"
   ]
  },
  {
   "cell_type": "code",
   "execution_count": 23,
   "metadata": {},
   "outputs": [
    {
     "name": "stdout",
     "output_type": "stream",
     "text": [
      "+----+-----+----------------------+--------------+----------+\n",
      "|Year|Month|product_category      |Num_of_reviews|Avg_rating|\n",
      "+----+-----+----------------------+--------------+----------+\n",
      "|2015|8    |Books                 |347646        |4.48      |\n",
      "|2015|8    |Digital_Ebook_Purchase|578604        |4.338     |\n",
      "|2015|7    |Digital_Ebook_Purchase|564277        |4.341     |\n",
      "|2015|7    |Books                 |339311        |4.477     |\n",
      "|2015|6    |Digital_Ebook_Purchase|534045        |4.35      |\n",
      "|2015|6    |Books                 |326946        |4.486     |\n",
      "|2015|5    |Books                 |327538        |4.49      |\n",
      "|2015|5    |Digital_Ebook_Purchase|581539        |4.343     |\n",
      "|2015|4    |Books                 |336509        |4.498     |\n",
      "|2015|4    |Digital_Ebook_Purchase|597905        |4.354     |\n",
      "+----+-----+----------------------+--------------+----------+\n",
      "only showing top 10 rows"
     ]
    }
   ],
   "source": [
    "category_to_filter=['Digital_Ebook_Purchase','Books']\n",
    "df10.groupBy(\"Year\",\"Month\",\"product_category\")\\\n",
    "    .agg(F.count(\"review_id\").alias(\"Num_of_reviews\"),F.round(F.mean(\"star_rating\"),3).alias(\"Avg_rating\"))\\\n",
    "    .filter(F.col(\"product_category\").isin(category_to_filter))\\\n",
    "    .sort(\"Year\",\"Month\", ascending=False).show(10,False)"
   ]
  },
  {
   "cell_type": "code",
   "execution_count": 24,
   "metadata": {},
   "outputs": [
    {
     "name": "stdout",
     "output_type": "stream",
     "text": [
      "+----+-----+-----------------------------------+---------------------------------+------------------+----------------+\n",
      "|Year|Month|Digital_Ebook_Purchase_review_count|Digital_Ebook_Purchase_Avg_rating|Books_review_count|Books_Avg_rating|\n",
      "+----+-----+-----------------------------------+---------------------------------+------------------+----------------+\n",
      "|2015|8    |578604                             |4.338                            |347646            |4.48            |\n",
      "|2015|7    |564277                             |4.341                            |339311            |4.477           |\n",
      "|2015|6    |534045                             |4.35                             |326946            |4.486           |\n",
      "|2015|5    |581539                             |4.343                            |327538            |4.49            |\n",
      "|2015|4    |597905                             |4.354                            |336509            |4.498           |\n",
      "|2015|3    |695166                             |4.354                            |387025            |4.507           |\n",
      "|2015|2    |538418                             |4.358                            |380738            |4.51            |\n",
      "|2015|1    |519404                             |4.36                             |414950            |4.522           |\n",
      "|2014|12   |621821                             |4.335                            |383955            |4.514           |\n",
      "|2014|11   |574097                             |4.343                            |311702            |4.498           |\n",
      "|2014|10   |616969                             |4.342                            |343254            |4.499           |\n",
      "|2014|9    |547985                             |4.338                            |338125            |4.49            |\n",
      "|2014|8    |635120                             |4.32                             |341036            |4.491           |\n",
      "|2014|7    |633503                             |4.323                            |337097            |4.493           |\n",
      "|2014|6    |515230                             |4.333                            |222120            |4.438           |\n",
      "|2014|5    |520153                             |4.337                            |220739            |4.445           |\n",
      "|2014|4    |516530                             |4.334                            |228310            |4.445           |\n",
      "|2014|3    |531242                             |4.337                            |257522            |4.436           |\n",
      "|2014|2    |450568                             |4.331                            |252840            |4.427           |\n",
      "|2014|1    |560677                             |4.322                            |304138            |4.444           |\n",
      "|2013|12   |400444                             |4.322                            |257720            |4.429           |\n",
      "|2013|11   |354535                             |4.311                            |211572            |4.418           |\n",
      "|2013|10   |381088                             |4.318                            |238421            |4.425           |\n",
      "|2013|9    |368154                             |4.315                            |223067            |4.39            |\n",
      "|2013|8    |388478                             |4.302                            |252352            |4.401           |\n",
      "|2013|7    |385737                             |4.299                            |238011            |4.412           |\n",
      "|2013|6    |362224                             |4.289                            |232202            |4.409           |\n",
      "|2013|5    |361713                             |4.29                             |243994            |4.405           |\n",
      "|2013|4    |359966                             |4.302                            |245961            |4.399           |\n",
      "|2013|3    |398458                             |4.305                            |258150            |4.424           |\n",
      "|2013|2    |364125                             |4.285                            |256608            |4.407           |\n",
      "|2013|1    |444755                             |4.284                            |307912            |4.427           |\n",
      "|2012|12   |318147                             |4.271                            |261476            |4.421           |\n",
      "|2012|11   |204599                             |4.262                            |166601            |4.377           |\n",
      "|2012|10   |178801                             |4.247                            |138623            |4.336           |\n",
      "|2012|9    |177872                             |4.222                            |129105            |4.305           |\n",
      "|2012|8    |98355                              |4.182                            |124739            |4.269           |\n",
      "|2012|7    |91977                              |4.173                            |119416            |4.258           |\n",
      "|2012|6    |85836                              |4.174                            |111555            |4.264           |\n",
      "|2012|5    |84700                              |4.184                            |115655            |4.28            |\n",
      "|2012|4    |82395                              |4.154                            |109925            |4.277           |\n",
      "|2012|3    |85402                              |4.154                            |115881            |4.276           |\n",
      "|2012|2    |57073                              |4.129                            |116158            |4.276           |\n",
      "|2012|1    |61442                              |4.097                            |140585            |4.281           |\n",
      "|2011|12   |43924                              |4.121                            |122437            |4.259           |\n",
      "|2011|11   |34196                              |4.102                            |111366            |4.239           |\n",
      "|2011|10   |33853                              |4.115                            |116052            |4.286           |\n",
      "|2011|9    |33575                              |4.103                            |113814            |4.287           |\n",
      "|2011|8    |32746                              |4.075                            |110285            |4.249           |\n",
      "|2011|7    |31182                              |4.065                            |103223            |4.226           |\n",
      "|2011|6    |27900                              |4.031                            |99487             |4.248           |\n",
      "|2011|5    |25160                              |4.028                            |100123            |4.243           |\n",
      "|2011|4    |23017                              |4.038                            |103065            |4.232           |\n",
      "|2011|3    |22191                              |3.97                             |105553            |4.252           |\n",
      "|2011|2    |19645                              |3.921                            |100557            |4.238           |\n",
      "|2011|1    |22749                              |3.937                            |117120            |4.246           |\n",
      "|2010|12   |13903                              |3.919                            |99092             |4.256           |\n",
      "|2010|11   |13432                              |3.318                            |95721             |4.266           |\n",
      "|2010|10   |10964                              |3.867                            |97838             |4.264           |\n",
      "|2010|9    |8935                               |3.838                            |98609             |4.24            |\n",
      "|2010|8    |8585                               |3.886                            |93006             |4.225           |\n",
      "|2010|7    |8144                               |3.882                            |93107             |4.239           |\n",
      "|2010|6    |6767                               |3.911                            |83913             |4.213           |\n",
      "|2010|5    |6450                               |3.869                            |86361             |4.246           |\n",
      "|2010|4    |6976                               |3.999                            |84904             |4.245           |\n",
      "|2010|3    |6719                               |4.043                            |93922             |4.258           |\n",
      "|2010|2    |5483                               |3.827                            |100363            |4.265           |\n",
      "|2010|1    |6157                               |3.837                            |93936             |4.238           |\n",
      "|2009|12   |4029                               |3.791                            |88318             |4.246           |\n",
      "|2009|11   |2906                               |3.748                            |84591             |4.246           |\n",
      "|2009|10   |2806                               |3.782                            |90571             |4.25            |\n",
      "|2009|9    |2556                               |3.755                            |94712             |4.26            |\n",
      "|2009|8    |2826                               |3.719                            |82822             |4.213           |\n",
      "|2009|7    |2956                               |3.714                            |76529             |4.197           |\n",
      "|2009|6    |2887                               |3.784                            |84685             |4.255           |\n",
      "|2009|5    |2734                               |3.833                            |85460             |4.274           |\n",
      "|2009|4    |2331                               |3.776                            |80458             |4.261           |\n",
      "|2009|3    |2404                               |3.773                            |79931             |4.254           |\n",
      "|2009|2    |1413                               |3.954                            |78894             |4.246           |\n",
      "|2009|1    |1258                               |3.789                            |88601             |4.254           |\n",
      "|2008|12   |1062                               |3.841                            |73599             |4.234           |\n",
      "|2008|11   |1031                               |4.018                            |65940             |4.256           |\n",
      "|2008|10   |827                                |3.926                            |69771             |4.258           |\n",
      "|2008|9    |811                                |3.969                            |69483             |4.239           |\n",
      "|2008|8    |966                                |3.908                            |71807             |4.166           |\n",
      "|2008|7    |938                                |4.012                            |69901             |4.215           |\n",
      "|2008|6    |852                                |3.815                            |66887             |4.216           |\n",
      "|2008|5    |872                                |4.064                            |66546             |4.254           |\n",
      "|2008|4    |782                                |3.934                            |66090             |4.247           |\n",
      "|2008|3    |513                                |4.023                            |65442             |4.217           |\n",
      "|2008|2    |517                                |3.994                            |67236             |4.255           |\n",
      "|2008|1    |436                                |3.86                             |75019             |4.248           |\n",
      "|2007|12   |313                                |3.946                            |63287             |4.213           |\n",
      "|2007|11   |134                                |3.903                            |58421             |4.24            |\n",
      "|2007|10   |7                                  |4.286                            |61978             |4.229           |\n",
      "|2007|9    |8                                  |3.0                              |62974             |4.22            |\n",
      "|2007|8    |15                                 |3.8                              |64263             |4.245           |\n",
      "|2007|7    |4                                  |5.0                              |62611             |4.255           |\n",
      "|2007|6    |5                                  |4.2                              |55548             |4.26            |\n",
      "|2007|5    |3                                  |5.0                              |69837             |4.312           |\n",
      "|2007|4    |5                                  |4.6                              |47324             |4.248           |\n",
      "|2007|3    |3                                  |4.333                            |65527             |4.274           |\n",
      "|2007|2    |3                                  |3.667                            |52961             |4.234           |\n",
      "|2007|1    |8                                  |3.625                            |96306             |4.32            |\n",
      "|2006|12   |1                                  |1.0                              |38156             |4.17            |\n",
      "|2006|11   |4                                  |4.0                              |54116             |4.279           |\n",
      "|2006|10   |null                               |null                             |35970             |4.191           |\n",
      "|2006|9    |2                                  |4.0                              |35900             |4.173           |\n",
      "|2006|8    |9                                  |4.444                            |54420             |4.213           |\n",
      "|2006|7    |1                                  |4.0                              |55792             |4.2             |\n",
      "|2006|6    |5                                  |4.2                              |48048             |4.184           |\n",
      "|2006|5    |1                                  |5.0                              |45013             |4.18            |\n",
      "|2006|4    |null                               |null                             |27676             |4.132           |\n",
      "|2006|3    |null                               |null                             |66895             |4.233           |\n",
      "|2006|2    |5                                  |4.6                              |54414             |4.203           |\n",
      "|2006|1    |8                                  |3.375                            |52001             |4.136           |\n",
      "|2005|12   |1                                  |5.0                              |42521             |4.126           |\n",
      "|2005|11   |1                                  |5.0                              |40885             |4.151           |\n",
      "|2005|10   |4                                  |4.0                              |51220             |4.18            |\n",
      "|2005|9    |2                                  |4.0                              |58130             |4.203           |\n",
      "|2005|8    |3                                  |2.667                            |58922             |4.186           |\n",
      "|2005|7    |3                                  |2.0                              |45943             |4.128           |\n",
      "|2005|6    |null                               |null                             |36600             |4.115           |\n",
      "|2005|5    |1                                  |1.0                              |36887             |4.132           |\n",
      "|2005|4    |1                                  |5.0                              |36891             |4.132           |\n",
      "|2005|3    |2                                  |4.5                              |38882             |4.122           |\n",
      "|2005|2    |null                               |null                             |33730             |4.125           |\n",
      "|2005|1    |1                                  |5.0                              |40436             |4.121           |\n",
      "+----+-----+-----------------------------------+---------------------------------+------------------+----------------+\n",
      "\n",
      "+----+-----+-----------------------------------+---------------------------------+------------------+----------------+\n",
      "|Year|Month|Digital_Ebook_Purchase_review_count|Digital_Ebook_Purchase_Avg_rating|Books_review_count|Books_Avg_rating|\n",
      "+----+-----+-----------------------------------+---------------------------------+------------------+----------------+\n",
      "|2015|8    |578604                             |4.338                            |347646            |4.48            |\n",
      "|2015|7    |564277                             |4.341                            |339311            |4.477           |\n",
      "|2015|6    |534045                             |4.35                             |326946            |4.486           |\n",
      "|2015|5    |581539                             |4.343                            |327538            |4.49            |\n",
      "|2015|4    |597905                             |4.354                            |336509            |4.498           |\n",
      "|2015|3    |695166                             |4.354                            |387025            |4.507           |\n",
      "|2015|2    |538418                             |4.358                            |380738            |4.51            |\n",
      "|2015|1    |519404                             |4.36                             |414950            |4.522           |\n",
      "|2014|12   |621821                             |4.335                            |383955            |4.514           |\n",
      "|2014|11   |574097                             |4.343                            |311702            |4.498           |\n",
      "|2014|10   |616969                             |4.342                            |343254            |4.499           |\n",
      "|2014|9    |547985                             |4.338                            |338125            |4.49            |\n",
      "|2014|8    |635120                             |4.32                             |341036            |4.491           |\n",
      "|2014|7    |633503                             |4.323                            |337097            |4.493           |\n",
      "|2014|6    |515230                             |4.333                            |222120            |4.438           |\n",
      "|2014|5    |520153                             |4.337                            |220739            |4.445           |\n",
      "|2014|4    |516530                             |4.334                            |228310            |4.445           |\n",
      "|2014|3    |531242                             |4.337                            |257522            |4.436           |\n",
      "|2014|2    |450568                             |4.331                            |252840            |4.427           |\n",
      "|2014|1    |560677                             |4.322                            |304138            |4.444           |\n",
      "|2013|12   |400444                             |4.322                            |257720            |4.429           |\n",
      "|2013|11   |354535                             |4.311                            |211572            |4.418           |\n",
      "|2013|10   |381088                             |4.318                            |238421            |4.425           |\n",
      "|2013|9    |368154                             |4.315                            |223067            |4.39            |\n",
      "|2013|8    |388478                             |4.302                            |252352            |4.401           |\n",
      "|2013|7    |385737                             |4.299                            |238011            |4.412           |\n",
      "|2013|6    |362224                             |4.289                            |232202            |4.409           |\n",
      "|2013|5    |361713                             |4.29                             |243994            |4.405           |\n",
      "|2013|4    |359966                             |4.302                            |245961            |4.399           |\n",
      "|2013|3    |398458                             |4.305                            |258150            |4.424           |\n",
      "|2013|2    |364125                             |4.285                            |256608            |4.407           |\n",
      "|2013|1    |444755                             |4.284                            |307912            |4.427           |\n",
      "|2012|12   |318147                             |4.271                            |261476            |4.421           |\n",
      "|2012|11   |204599                             |4.262                            |166601            |4.377           |\n",
      "|2012|10   |178801                             |4.247                            |138623            |4.336           |\n",
      "|2012|9    |177872                             |4.222                            |129105            |4.305           |\n",
      "|2012|8    |98355                              |4.182                            |124739            |4.269           |\n",
      "|2012|7    |91977                              |4.173                            |119416            |4.258           |\n",
      "|2012|6    |85836                              |4.174                            |111555            |4.264           |\n",
      "|2012|5    |84700                              |4.184                            |115655            |4.28            |\n",
      "|2012|4    |82395                              |4.154                            |109925            |4.277           |\n",
      "|2012|3    |85402                              |4.154                            |115881            |4.276           |\n",
      "|2012|2    |57073                              |4.129                            |116158            |4.276           |\n",
      "|2012|1    |61442                              |4.096                            |140585            |4.281           |\n",
      "|2011|12   |43924                              |4.121                            |122437            |4.259           |\n",
      "|2011|11   |34196                              |4.102                            |111366            |4.239           |\n",
      "|2011|10   |33853                              |4.115                            |116052            |4.286           |\n",
      "|2011|9    |33575                              |4.103                            |113814            |4.287           |\n",
      "|2011|8    |32746                              |4.075                            |110285            |4.249           |\n",
      "|2011|7    |31182                              |4.065                            |103223            |4.226           |\n",
      "|2011|6    |27900                              |4.031                            |99487             |4.248           |\n",
      "|2011|5    |25160                              |4.028                            |100123            |4.243           |\n",
      "|2011|4    |23017                              |4.038                            |103065            |4.232           |\n",
      "|2011|3    |22191                              |3.97                             |105553            |4.252           |\n",
      "|2011|2    |19645                              |3.921                            |100557            |4.238           |\n",
      "|2011|1    |22749                              |3.937                            |117120            |4.246           |\n",
      "|2010|12   |13903                              |3.919                            |99092             |4.256           |\n",
      "|2010|11   |13432                              |3.318                            |95721             |4.266           |\n",
      "|2010|10   |10964                              |3.867                            |97838             |4.264           |\n",
      "|2010|9    |8935                               |3.838                            |98609             |4.24            |\n",
      "|2010|8    |8585                               |3.886                            |93006             |4.225           |\n",
      "|2010|7    |8144                               |3.882                            |93107             |4.239           |\n",
      "|2010|6    |6767                               |3.911                            |83913             |4.213           |\n",
      "|2010|5    |6450                               |3.869                            |86361             |4.246           |\n",
      "|2010|4    |6976                               |3.999                            |84904             |4.245           |\n",
      "|2010|3    |6719                               |4.043                            |93922             |4.258           |\n",
      "|2010|2    |5483                               |3.827                            |100363            |4.265           |\n",
      "|2010|1    |6157                               |3.837                            |93936             |4.238           |\n",
      "|2009|12   |4029                               |3.791                            |88318             |4.246           |\n",
      "|2009|11   |2906                               |3.748                            |84591             |4.246           |\n",
      "|2009|10   |2806                               |3.782                            |90571             |4.25            |\n",
      "|2009|9    |2556                               |3.755                            |94712             |4.26            |\n",
      "|2009|8    |2826                               |3.719                            |82822             |4.213           |\n",
      "|2009|7    |2956                               |3.714                            |76529             |4.197           |\n",
      "|2009|6    |2887                               |3.784                            |84685             |4.255           |\n",
      "|2009|5    |2734                               |3.833                            |85460             |4.274           |\n",
      "|2009|4    |2331                               |3.776                            |80458             |4.261           |\n",
      "|2009|3    |2404                               |3.773                            |79931             |4.254           |\n",
      "|2009|2    |1413                               |3.954                            |78894             |4.246           |\n",
      "|2009|1    |1258                               |3.789                            |88601             |4.254           |\n",
      "|2008|12   |1062                               |3.841                            |73599             |4.234           |\n",
      "|2008|11   |1031                               |4.018                            |65940             |4.256           |\n",
      "|2008|10   |827                                |3.926                            |69771             |4.258           |\n",
      "|2008|9    |811                                |3.969                            |69483             |4.239           |\n",
      "|2008|8    |966                                |3.908                            |71807             |4.166           |\n",
      "|2008|7    |938                                |4.012                            |69901             |4.215           |\n",
      "|2008|6    |852                                |3.815                            |66887             |4.216           |\n",
      "|2008|5    |872                                |4.064                            |66546             |4.254           |\n",
      "|2008|4    |782                                |3.934                            |66090             |4.247           |\n",
      "|2008|3    |513                                |4.023                            |65442             |4.217           |\n",
      "|2008|2    |517                                |3.994                            |67236             |4.255           |\n",
      "|2008|1    |436                                |3.86                             |75019             |4.248           |\n",
      "|2007|12   |313                                |3.946                            |63287             |4.213           |\n",
      "|2007|11   |134                                |3.903                            |58421             |4.24            |\n",
      "|2007|10   |7                                  |4.286                            |61978             |4.229           |\n",
      "|2007|9    |8                                  |3.0                              |62974             |4.22            |\n",
      "|2007|8    |15                                 |3.8                              |64263             |4.245           |\n",
      "|2007|7    |4                                  |5.0                              |62611             |4.255           |\n",
      "|2007|6    |5                                  |4.2                              |55548             |4.26            |\n",
      "|2007|5    |3                                  |5.0                              |69837             |4.312           |\n",
      "|2007|4    |5                                  |4.6                              |47324             |4.248           |\n",
      "|2007|3    |3                                  |4.333                            |65527             |4.274           |\n",
      "|2007|2    |3                                  |3.667                            |52961             |4.234           |\n",
      "|2007|1    |8                                  |3.625                            |96306             |4.32            |\n",
      "|2006|12   |1                                  |1.0                              |38156             |4.17            |\n",
      "|2006|11   |4                                  |4.0                              |54116             |4.279           |\n",
      "|2006|10   |0                                  |0.0                              |35970             |4.191           |\n",
      "|2006|9    |2                                  |4.0                              |35900             |4.173           |\n",
      "|2006|8    |9                                  |4.444                            |54420             |4.213           |\n",
      "|2006|7    |1                                  |4.0                              |55792             |4.2             |\n",
      "|2006|6    |5                                  |4.2                              |48048             |4.184           |\n",
      "|2006|5    |1                                  |5.0                              |45013             |4.18            |\n",
      "|2006|4    |0                                  |0.0                              |27676             |4.131           |\n",
      "|2006|3    |0                                  |0.0                              |66895             |4.233           |\n",
      "|2006|2    |5                                  |4.6                              |54414             |4.203           |\n",
      "|2006|1    |8                                  |3.375                            |52001             |4.136           |\n",
      "|2005|12   |1                                  |5.0                              |42521             |4.126           |\n",
      "|2005|11   |1                                  |5.0                              |40885             |4.151           |\n",
      "|2005|10   |4                                  |4.0                              |51220             |4.18            |\n",
      "|2005|9    |2                                  |4.0                              |58130             |4.203           |\n",
      "|2005|8    |3                                  |2.667                            |58922             |4.186           |\n",
      "|2005|7    |3                                  |2.0                              |45943             |4.128           |\n",
      "|2005|6    |0                                  |0.0                              |36600             |4.115           |\n",
      "|2005|5    |1                                  |1.0                              |36887             |4.132           |\n",
      "|2005|4    |1                                  |5.0                              |36891             |4.132           |\n",
      "|2005|3    |2                                  |4.5                              |38882             |4.122           |\n",
      "|2005|2    |0                                  |0.0                              |33730             |4.125           |\n",
      "|2005|1    |1                                  |5.0                              |40436             |4.121           |\n",
      "+----+-----+-----------------------------------+---------------------------------+------------------+----------------+"
     ]
    }
   ],
   "source": [
    "category_to_filter=[\"Digital_Ebook_Purchase\",\"Books\"]\n",
    "Q21=df10.groupBy(\"Year\",\"Month\").pivot(\"product_category\",category_to_filter)\\\n",
    "    .agg(F.count(\"review_id\").alias(\"review_count\"),F.round(F.mean(\"star_rating\"),3).alias(\"Avg_rating\"))\\\n",
    "    .sort(\"Year\",\"Month\", ascending=False)\n",
    "Q21.show(132,truncate = False)\n",
    "Q21=Q21.na.fill(0)\n",
    "Q21.show(132,truncate = False)"
   ]
  },
  {
   "cell_type": "markdown",
   "metadata": {},
   "source": [
    "##### 2. Provide detailed analysis of \"Digital eBook Purchase\" versus Books.\n",
    "2. Produce two graphs to demonstrate aggregations from #1: \n",
    "   1. Number of reviews\n",
    "   2. Average stars"
   ]
  },
  {
   "cell_type": "markdown",
   "metadata": {},
   "source": [
    "###### 2. Provide detailed analysis of \"Digital eBook Purchase\" versus Books\n",
    "3. Identify similar products (books) in both categories. Use \"product_title\" to match products. To account for potential diﬀerences in naming of products, compare titles after stripping spaces and converting to lower case. \n",
    "\n",
    "    1.Is there a diﬀerence in average rating for the similar books in digital and printed form? \n",
    "    \n",
    "    2.To answer #1, you may calculate number of items with high stars in digital form versus printed form, and vise versa. Alternatively, you can make the conclusion by using appropriate pairwise statistic. "
   ]
  },
  {
   "cell_type": "code",
   "execution_count": 8,
   "metadata": {},
   "outputs": [
    {
     "name": "stdout",
     "output_type": "stream",
     "text": [
      "+--------------------+----------------+----------------+--------------------+---------------+\n",
      "|    product_category|Ebook_Avg_rating|product_category|       product_title|book_Avg_rating|\n",
      "+--------------------+----------------+----------------+--------------------+---------------+\n",
      "|Digital_Ebook_Pur...|             5.0|           Books|\"rays of light\": ...|            5.0|\n",
      "|Digital_Ebook_Pur...|            4.99|           Books|\"the siege of khe...|           4.94|\n",
      "|Digital_Ebook_Pur...|             5.0|           Books|          'dem bon'z|            5.0|\n",
      "|Digital_Ebook_Pur...|            4.67|           Books|   0400 roswell time|            5.0|\n",
      "|Digital_Ebook_Pur...|            4.83|           Books|10 smart things g...|            5.0|\n",
      "|Digital_Ebook_Pur...|             5.0|           Books|100 prayers for y...|            5.0|\n",
      "|Digital_Ebook_Pur...|             5.0|           Books|13 cent killers: ...|           4.81|\n",
      "|Digital_Ebook_Pur...|             5.0|           Books|25 essentials: te...|           4.72|\n",
      "|Digital_Ebook_Pur...|            4.97|           Books|30 before 30: tra...|            5.0|\n",
      "|Digital_Ebook_Pur...|             5.0|           Books|42 rules to incre...|            5.0|\n",
      "+--------------------+----------------+----------------+--------------------+---------------+\n",
      "only showing top 10 rows"
     ]
    }
   ],
   "source": [
    "#Q2.3\n",
    "#df12 will have df2 dataset with condition product_category is \"Digital_Ebook_Purchase\" or \"Books\" and star_rating is 4 or 5\n",
    "\n",
    "category_to_filter=[\"Digital_Ebook_Purchase\",\"Books\"]\n",
    "Rating=[4,5]\n",
    "\n",
    "df12=df2.select(\"product_category\",\"product_title\",\"star_rating\")\\\n",
    "    .filter((F.col(\"product_category\").isin(category_to_filter)) & (F.col(\"star_rating\").isin(Rating)))\n",
    "\n",
    "#Q231a is a dataframe with product_category Digital_Ebook_Purchase\n",
    "Q231a= df12.groupby(\"product_category\",  F.lower(F.trim(F.col(\"product_title\"))).alias(\"product_title\"))\\\n",
    "          .agg(F.round(F.avg(\"star_rating\"),2).alias(\"Ebook_Avg_rating\"))\\\n",
    "          .filter(F.col(\"product_category\")==\"Digital_Ebook_Purchase\")\n",
    "\n",
    "#Q231b is a dataframe with product_category Books\n",
    "Q231b= df12.groupby(\"product_category\",  F.lower(F.trim(F.col(\"product_title\"))).alias(\"product_title\"))\\\n",
    "          .agg(F.round(F.avg(\"star_rating\"),2).alias(\"book_Avg_rating\"))\\\n",
    "          .filter(F.col(\"product_category\")==\"Books\")\n",
    "#Q231c is a dataframe created by join Q231a and Q231b where product title is same\n",
    "Q231c=Q231a.join(Q231b, (Q231a[\"product_title\"] == Q231b['product_title'])).drop(Q231a[\"product_title\"])\n",
    "\n",
    "Q231c.show(10)"
   ]
  },
  {
   "cell_type": "markdown",
   "metadata": {},
   "source": [
    "##### Count of product titles which are common in \"Digital_Ebook_Purchase\" and \"Books\" product titles."
   ]
  },
  {
   "cell_type": "code",
   "execution_count": 30,
   "metadata": {},
   "outputs": [
    {
     "name": "stdout",
     "output_type": "stream",
     "text": [
      "307550"
     ]
    }
   ],
   "source": [
    "Q231c.count()"
   ]
  },
  {
   "cell_type": "code",
   "execution_count": 31,
   "metadata": {},
   "outputs": [
    {
     "name": "stdout",
     "output_type": "stream",
     "text": [
      "root\n",
      " |-- product_category: string (nullable = true)\n",
      " |-- product_category: string (nullable = true)\n",
      " |-- product_title: string (nullable = true)\n",
      " |-- Ebook_Avg_rating: double (nullable = true)\n",
      " |-- book_Avg_rating: double (nullable = true)"
     ]
    }
   ],
   "source": [
    "Q231c.printSchema()"
   ]
  },
  {
   "cell_type": "markdown",
   "metadata": {},
   "source": [
    "##### Checking correlation between \"Ebook_Avg_rating\" and \"book_Avg_rating\""
   ]
  },
  {
   "cell_type": "code",
   "execution_count": 9,
   "metadata": {},
   "outputs": [
    {
     "name": "stdout",
     "output_type": "stream",
     "text": [
      "0.16606580243319788"
     ]
    }
   ],
   "source": [
    "Q231c.stat.corr(\"Ebook_Avg_rating\", \"book_Avg_rating\")"
   ]
  }
 ],
 "metadata": {
  "kernelspec": {
   "display_name": "Python 3",
   "language": "python",
   "name": "python3"
  },
  "language_info": {
   "codemirror_mode": {
    "name": "ipython",
    "version": 3
   },
   "file_extension": ".py",
   "mimetype": "text/x-python",
   "name": "python",
   "nbconvert_exporter": "python",
   "pygments_lexer": "ipython3",
   "version": "3.7.4"
  }
 },
 "nbformat": 4,
 "nbformat_minor": 2
}
